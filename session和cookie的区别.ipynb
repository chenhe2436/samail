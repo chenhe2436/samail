{
 "cells": [
  {
   "cell_type": "markdown",
   "metadata": {},
   "source": [
    "cookie 和session 的区别：\n",
    "\n",
    "1、cookie数据存放在客户的浏览器上，session数据放在服务器上。\n",
    "\n",
    "2、cookie不是很安全，别人可以分析存放在本地的COOKIE并进行COOKIE欺骗\n",
    "   考虑到安全应当使用session。\n",
    "\n",
    "3、session会在一定时间内保存在服务器上。当访问增多，会比较占用你服务器的性能\n",
    "   考虑到减轻服务器性能方面，应当使用COOKIE。\n",
    "\n",
    "4、单个cookie保存的数据不能超过4K，很多浏览器都限制一个站点最多保存20个cookie。\n",
    "\n",
    "5、所以个人建议：\n",
    "   将登陆信息等重要信息存放为SESSION\n",
    "   其他信息如果需要保留，可以放在COOKIE中"
   ]
  },
  {
   "cell_type": "markdown",
   "metadata": {},
   "source": [
    "\n",
    "cookie 和session 的联系：\n",
    "\n",
    "1、session是通过cookie来工作的\n",
    "\n",
    "2、session和cookie之间是通过\\$_COOKIE['PHPSESSID']来联系的，通过$_COOKIE['PHPSESSID']可以知道session的id，从而获取到其他的信息。\n",
    "\n",
    "3、在购物网站中通常将用户加入购物车的商品联通session_id记录到数据库中，当用户再次访问是，通过sessionid就可以查找到用户上次加入购物车的商品。因为sessionid是唯一的，记录到数据库中就可以根据这个查找了。\n"
   ]
  }
 ],
 "metadata": {
  "kernelspec": {
   "display_name": "Python 3",
   "language": "python",
   "name": "python3"
  },
  "language_info": {
   "codemirror_mode": {
    "name": "ipython",
    "version": 3
   },
   "file_extension": ".py",
   "mimetype": "text/x-python",
   "name": "python",
   "nbconvert_exporter": "python",
   "pygments_lexer": "ipython3",
   "version": "3.6.3"
  }
 },
 "nbformat": 4,
 "nbformat_minor": 2
}
